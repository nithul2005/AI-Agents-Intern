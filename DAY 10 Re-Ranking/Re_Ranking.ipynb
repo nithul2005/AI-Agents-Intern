{
  "nbformat": 4,
  "nbformat_minor": 0,
  "metadata": {
    "colab": {
      "provenance": []
    },
    "kernelspec": {
      "name": "python3",
      "display_name": "Python 3"
    },
    "language_info": {
      "name": "python"
    },
    "widgets": {
      "application/vnd.jupyter.widget-state+json": {
        "cd1764d4d570412eae0cf5637cf81410": {
          "model_module": "@jupyter-widgets/controls",
          "model_name": "HBoxModel",
          "model_module_version": "1.5.0",
          "state": {
            "_dom_classes": [],
            "_model_module": "@jupyter-widgets/controls",
            "_model_module_version": "1.5.0",
            "_model_name": "HBoxModel",
            "_view_count": null,
            "_view_module": "@jupyter-widgets/controls",
            "_view_module_version": "1.5.0",
            "_view_name": "HBoxView",
            "box_style": "",
            "children": [
              "IPY_MODEL_804a6db2060b425bbef818da3c3da638",
              "IPY_MODEL_74ae7b7aeb914aae9e6db447f33b23d3",
              "IPY_MODEL_6efd94346bf24b31b18a582fe6e42384"
            ],
            "layout": "IPY_MODEL_db5e3ce4477b48778cff75489e1ceb9b"
          }
        },
        "804a6db2060b425bbef818da3c3da638": {
          "model_module": "@jupyter-widgets/controls",
          "model_name": "HTMLModel",
          "model_module_version": "1.5.0",
          "state": {
            "_dom_classes": [],
            "_model_module": "@jupyter-widgets/controls",
            "_model_module_version": "1.5.0",
            "_model_name": "HTMLModel",
            "_view_count": null,
            "_view_module": "@jupyter-widgets/controls",
            "_view_module_version": "1.5.0",
            "_view_name": "HTMLView",
            "description": "",
            "description_tooltip": null,
            "layout": "IPY_MODEL_3c19d7bc5d9d47ab82aa6e4d4e7811f0",
            "placeholder": "​",
            "style": "IPY_MODEL_7dfeb184bf9d49aa8b2e9e458112ddba",
            "value": "Batches: 100%"
          }
        },
        "74ae7b7aeb914aae9e6db447f33b23d3": {
          "model_module": "@jupyter-widgets/controls",
          "model_name": "FloatProgressModel",
          "model_module_version": "1.5.0",
          "state": {
            "_dom_classes": [],
            "_model_module": "@jupyter-widgets/controls",
            "_model_module_version": "1.5.0",
            "_model_name": "FloatProgressModel",
            "_view_count": null,
            "_view_module": "@jupyter-widgets/controls",
            "_view_module_version": "1.5.0",
            "_view_name": "ProgressView",
            "bar_style": "success",
            "description": "",
            "description_tooltip": null,
            "layout": "IPY_MODEL_c899a9d3f4b94ba69a81f108af67fff3",
            "max": 1,
            "min": 0,
            "orientation": "horizontal",
            "style": "IPY_MODEL_6045983990bc4c1ba3ee273a84c3e99a",
            "value": 1
          }
        },
        "6efd94346bf24b31b18a582fe6e42384": {
          "model_module": "@jupyter-widgets/controls",
          "model_name": "HTMLModel",
          "model_module_version": "1.5.0",
          "state": {
            "_dom_classes": [],
            "_model_module": "@jupyter-widgets/controls",
            "_model_module_version": "1.5.0",
            "_model_name": "HTMLModel",
            "_view_count": null,
            "_view_module": "@jupyter-widgets/controls",
            "_view_module_version": "1.5.0",
            "_view_name": "HTMLView",
            "description": "",
            "description_tooltip": null,
            "layout": "IPY_MODEL_bd25417e421b4b278a17bd899c316ca7",
            "placeholder": "​",
            "style": "IPY_MODEL_e771f2b1b09f433d916963d1257bd4e7",
            "value": " 1/1 [00:00&lt;00:00,  7.44it/s]"
          }
        },
        "db5e3ce4477b48778cff75489e1ceb9b": {
          "model_module": "@jupyter-widgets/base",
          "model_name": "LayoutModel",
          "model_module_version": "1.2.0",
          "state": {
            "_model_module": "@jupyter-widgets/base",
            "_model_module_version": "1.2.0",
            "_model_name": "LayoutModel",
            "_view_count": null,
            "_view_module": "@jupyter-widgets/base",
            "_view_module_version": "1.2.0",
            "_view_name": "LayoutView",
            "align_content": null,
            "align_items": null,
            "align_self": null,
            "border": null,
            "bottom": null,
            "display": null,
            "flex": null,
            "flex_flow": null,
            "grid_area": null,
            "grid_auto_columns": null,
            "grid_auto_flow": null,
            "grid_auto_rows": null,
            "grid_column": null,
            "grid_gap": null,
            "grid_row": null,
            "grid_template_areas": null,
            "grid_template_columns": null,
            "grid_template_rows": null,
            "height": null,
            "justify_content": null,
            "justify_items": null,
            "left": null,
            "margin": null,
            "max_height": null,
            "max_width": null,
            "min_height": null,
            "min_width": null,
            "object_fit": null,
            "object_position": null,
            "order": null,
            "overflow": null,
            "overflow_x": null,
            "overflow_y": null,
            "padding": null,
            "right": null,
            "top": null,
            "visibility": null,
            "width": null
          }
        },
        "3c19d7bc5d9d47ab82aa6e4d4e7811f0": {
          "model_module": "@jupyter-widgets/base",
          "model_name": "LayoutModel",
          "model_module_version": "1.2.0",
          "state": {
            "_model_module": "@jupyter-widgets/base",
            "_model_module_version": "1.2.0",
            "_model_name": "LayoutModel",
            "_view_count": null,
            "_view_module": "@jupyter-widgets/base",
            "_view_module_version": "1.2.0",
            "_view_name": "LayoutView",
            "align_content": null,
            "align_items": null,
            "align_self": null,
            "border": null,
            "bottom": null,
            "display": null,
            "flex": null,
            "flex_flow": null,
            "grid_area": null,
            "grid_auto_columns": null,
            "grid_auto_flow": null,
            "grid_auto_rows": null,
            "grid_column": null,
            "grid_gap": null,
            "grid_row": null,
            "grid_template_areas": null,
            "grid_template_columns": null,
            "grid_template_rows": null,
            "height": null,
            "justify_content": null,
            "justify_items": null,
            "left": null,
            "margin": null,
            "max_height": null,
            "max_width": null,
            "min_height": null,
            "min_width": null,
            "object_fit": null,
            "object_position": null,
            "order": null,
            "overflow": null,
            "overflow_x": null,
            "overflow_y": null,
            "padding": null,
            "right": null,
            "top": null,
            "visibility": null,
            "width": null
          }
        },
        "7dfeb184bf9d49aa8b2e9e458112ddba": {
          "model_module": "@jupyter-widgets/controls",
          "model_name": "DescriptionStyleModel",
          "model_module_version": "1.5.0",
          "state": {
            "_model_module": "@jupyter-widgets/controls",
            "_model_module_version": "1.5.0",
            "_model_name": "DescriptionStyleModel",
            "_view_count": null,
            "_view_module": "@jupyter-widgets/base",
            "_view_module_version": "1.2.0",
            "_view_name": "StyleView",
            "description_width": ""
          }
        },
        "c899a9d3f4b94ba69a81f108af67fff3": {
          "model_module": "@jupyter-widgets/base",
          "model_name": "LayoutModel",
          "model_module_version": "1.2.0",
          "state": {
            "_model_module": "@jupyter-widgets/base",
            "_model_module_version": "1.2.0",
            "_model_name": "LayoutModel",
            "_view_count": null,
            "_view_module": "@jupyter-widgets/base",
            "_view_module_version": "1.2.0",
            "_view_name": "LayoutView",
            "align_content": null,
            "align_items": null,
            "align_self": null,
            "border": null,
            "bottom": null,
            "display": null,
            "flex": null,
            "flex_flow": null,
            "grid_area": null,
            "grid_auto_columns": null,
            "grid_auto_flow": null,
            "grid_auto_rows": null,
            "grid_column": null,
            "grid_gap": null,
            "grid_row": null,
            "grid_template_areas": null,
            "grid_template_columns": null,
            "grid_template_rows": null,
            "height": null,
            "justify_content": null,
            "justify_items": null,
            "left": null,
            "margin": null,
            "max_height": null,
            "max_width": null,
            "min_height": null,
            "min_width": null,
            "object_fit": null,
            "object_position": null,
            "order": null,
            "overflow": null,
            "overflow_x": null,
            "overflow_y": null,
            "padding": null,
            "right": null,
            "top": null,
            "visibility": null,
            "width": null
          }
        },
        "6045983990bc4c1ba3ee273a84c3e99a": {
          "model_module": "@jupyter-widgets/controls",
          "model_name": "ProgressStyleModel",
          "model_module_version": "1.5.0",
          "state": {
            "_model_module": "@jupyter-widgets/controls",
            "_model_module_version": "1.5.0",
            "_model_name": "ProgressStyleModel",
            "_view_count": null,
            "_view_module": "@jupyter-widgets/base",
            "_view_module_version": "1.2.0",
            "_view_name": "StyleView",
            "bar_color": null,
            "description_width": ""
          }
        },
        "bd25417e421b4b278a17bd899c316ca7": {
          "model_module": "@jupyter-widgets/base",
          "model_name": "LayoutModel",
          "model_module_version": "1.2.0",
          "state": {
            "_model_module": "@jupyter-widgets/base",
            "_model_module_version": "1.2.0",
            "_model_name": "LayoutModel",
            "_view_count": null,
            "_view_module": "@jupyter-widgets/base",
            "_view_module_version": "1.2.0",
            "_view_name": "LayoutView",
            "align_content": null,
            "align_items": null,
            "align_self": null,
            "border": null,
            "bottom": null,
            "display": null,
            "flex": null,
            "flex_flow": null,
            "grid_area": null,
            "grid_auto_columns": null,
            "grid_auto_flow": null,
            "grid_auto_rows": null,
            "grid_column": null,
            "grid_gap": null,
            "grid_row": null,
            "grid_template_areas": null,
            "grid_template_columns": null,
            "grid_template_rows": null,
            "height": null,
            "justify_content": null,
            "justify_items": null,
            "left": null,
            "margin": null,
            "max_height": null,
            "max_width": null,
            "min_height": null,
            "min_width": null,
            "object_fit": null,
            "object_position": null,
            "order": null,
            "overflow": null,
            "overflow_x": null,
            "overflow_y": null,
            "padding": null,
            "right": null,
            "top": null,
            "visibility": null,
            "width": null
          }
        },
        "e771f2b1b09f433d916963d1257bd4e7": {
          "model_module": "@jupyter-widgets/controls",
          "model_name": "DescriptionStyleModel",
          "model_module_version": "1.5.0",
          "state": {
            "_model_module": "@jupyter-widgets/controls",
            "_model_module_version": "1.5.0",
            "_model_name": "DescriptionStyleModel",
            "_view_count": null,
            "_view_module": "@jupyter-widgets/base",
            "_view_module_version": "1.2.0",
            "_view_name": "StyleView",
            "description_width": ""
          }
        }
      }
    }
  },
  "cells": [
    {
      "cell_type": "markdown",
      "source": [
        "# Re-Ranking\n",
        "\n",
        "reordering retrieved documents based on relevance\n",
        "\n",
        "improves final answer useing rag models"
      ],
      "metadata": {
        "id": "sQ4D5RCaIaAx"
      }
    },
    {
      "cell_type": "code",
      "source": [
        "pip install sentence-transformers faiss-cpu\n"
      ],
      "metadata": {
        "id": "OfoXRpiEMTgo"
      },
      "execution_count": null,
      "outputs": []
    },
    {
      "cell_type": "code",
      "execution_count": null,
      "metadata": {
        "colab": {
          "base_uri": "https://localhost:8080/",
          "height": 268,
          "referenced_widgets": [
            "cd1764d4d570412eae0cf5637cf81410",
            "804a6db2060b425bbef818da3c3da638",
            "74ae7b7aeb914aae9e6db447f33b23d3",
            "6efd94346bf24b31b18a582fe6e42384",
            "db5e3ce4477b48778cff75489e1ceb9b",
            "3c19d7bc5d9d47ab82aa6e4d4e7811f0",
            "7dfeb184bf9d49aa8b2e9e458112ddba",
            "c899a9d3f4b94ba69a81f108af67fff3",
            "6045983990bc4c1ba3ee273a84c3e99a",
            "bd25417e421b4b278a17bd899c316ca7",
            "e771f2b1b09f433d916963d1257bd4e7"
          ]
        },
        "id": "jGo1DbsAIWHA",
        "outputId": "52377a04-b20e-459a-965d-63537d40f3a4"
      },
      "outputs": [
        {
          "output_type": "display_data",
          "data": {
            "text/plain": [
              "Batches:   0%|          | 0/1 [00:00<?, ?it/s]"
            ],
            "application/vnd.jupyter.widget-view+json": {
              "version_major": 2,
              "version_minor": 0,
              "model_id": "cd1764d4d570412eae0cf5637cf81410"
            }
          },
          "metadata": {}
        },
        {
          "output_type": "stream",
          "name": "stdout",
          "text": [
            "\n",
            "🔍 Query: Where is the Eiffel Tower?\n",
            "\n",
            "Score: 9.8405 | Doc ID: 0 | Text: The Eiffel Tower is in Paris.\n",
            "Score: -6.7940 | Doc ID: 3 | Text: Paris is the capital city of France.\n",
            "Score: -10.6811 | Doc ID: 1 | Text: The Great Wall of China is visible from space.\n",
            "\n",
            "🔍 Query: Tell me about programming languages.\n",
            "\n",
            "Score: 0.6079 | Doc ID: 4 | Text: Python is a popular programming language.\n",
            "Score: -10.1453 | Doc ID: 2 | Text: Machine learning is a subfield of artificial intelligence.\n",
            "Score: -11.1572 | Doc ID: 5 | Text: The Pyramids of Giza are in Egypt.\n"
          ]
        }
      ],
      "source": [
        "from sentence_transformers import SentenceTransformer, CrossEncoder, util\n",
        "import faiss\n",
        "import numpy as np\n",
        "\n",
        "corpus = [\n",
        "    \"The Eiffel Tower is in Paris.\",\n",
        "    \"The Great Wall of China is visible from space.\",\n",
        "    \"Machine learning is a subfield of artificial intelligence.\",\n",
        "    \"Paris is the capital city of France.\",\n",
        "    \"Python is a popular programming language.\",\n",
        "    \"The Pyramids of Giza are in Egypt.\",\n",
        "]\n",
        "corpus_ids = list(range(len(corpus)))\n",
        "\n",
        "bi_encoder = SentenceTransformer('all-MiniLM-L6-v2')\n",
        "corpus_embeddings = bi_encoder.encode(corpus, convert_to_tensor=False, show_progress_bar=True)\n",
        "corpus_embeddings = np.array(corpus_embeddings).astype(\"float32\")\n",
        "\n",
        "dimension = corpus_embeddings.shape[1]\n",
        "faiss_index = faiss.IndexFlatL2(dimension)\n",
        "faiss_index.add(corpus_embeddings)\n",
        "\n",
        "cross_encoder = CrossEncoder('cross-encoder/ms-marco-MiniLM-L-6-v2')\n",
        "\n",
        "def search_with_rerank(query, top_k=3):\n",
        "    query_embedding = bi_encoder.encode([query])[0].astype(\"float32\")\n",
        "\n",
        "    D, I = faiss_index.search(np.array([query_embedding]), top_k)\n",
        "    initial_results = [(corpus[idx], idx) for idx in I[0]]\n",
        "\n",
        "    cross_inp = [[query, corpus[idx]] for idx in I[0]]\n",
        "    cross_scores = cross_encoder.predict(cross_inp)\n",
        "\n",
        "    reranked_results = sorted(zip(cross_scores, initial_results), key=lambda x: x[0], reverse=True)\n",
        "\n",
        "    print(f\"\\n🔍 Query: {query}\\n\")\n",
        "    for score, (text, idx) in reranked_results:\n",
        "        print(f\"Score: {score:.4f} | Doc ID: {idx} | Text: {text}\")\n",
        "\n",
        "search_with_rerank(\"Where is the Eiffel Tower?\")\n",
        "search_with_rerank(\"Tell me about programming languages.\")\n"
      ]
    },
    {
      "cell_type": "code",
      "source": [
        "from langchain.embeddings import HuggingFaceEmbeddings\n",
        "from langchain.vectorstores import FAISS\n",
        "from langchain.schema import Document\n",
        "from langchain.text_splitter import CharacterTextSplitter\n",
        "from sentence_transformers import CrossEncoder\n",
        "import numpy as np\n",
        "\n",
        "docs = [\n",
        "    Document(page_content=\"Boil water in a large pot with a pinch of salt.\"),\n",
        "    Document(page_content=\"Add pasta to boiling water and stir occasionally.\"),\n",
        "    Document(page_content=\"Cook pasta for 8-10 minutes until al dente.\"),\n",
        "    Document(page_content=\"Drain the pasta using a colander.\"),\n",
        "    Document(page_content=\"Add your favorite sauce and mix well.\"),\n",
        "    Document(page_content=\"Serve the pasta hot with grated cheese on top.\"),\n",
        "    Document(page_content=\"Optionally, garnish with basil or parsley for flavor.\"),\n",
        "]\n",
        "\n",
        "text_splitter = CharacterTextSplitter(chunk_size=300, chunk_overlap=0)\n",
        "split_docs = text_splitter.split_documents(docs)\n",
        "\n",
        "embed_model = HuggingFaceEmbeddings(model_name=\"all-MiniLM-L6-v2\")\n",
        "vectorstore = FAISS.from_documents(split_docs, embed_model)\n",
        "\n",
        "cross_encoder = CrossEncoder(\"cross-encoder/ms-marco-MiniLM-L-6-v2\")\n",
        "\n",
        "def normalize(scores):\n",
        "    scores = np.array(scores)\n",
        "    min_score = scores.min()\n",
        "    max_score = scores.max()\n",
        "    return (scores - min_score) / (max_score - min_score + 1e-8)\n",
        "\n",
        "def search_with_rerank(query, k=3):\n",
        "    retrieved_docs = vectorstore.similarity_search(query, k=k)\n",
        "    pairs = [[query, doc.page_content] for doc in retrieved_docs]\n",
        "    raw_scores = cross_encoder.predict(pairs)\n",
        "    scores = normalize(raw_scores)\n",
        "    reranked = sorted(zip(scores, retrieved_docs), key=lambda x: x[0], reverse=True)\n",
        "    print(f\"\\n🔍 Query: {query}\\n\")\n",
        "    for score, doc in reranked:\n",
        "        print(f\"Score: {score:.4f} | Text: {doc.page_content}\")\n",
        "\n",
        "sollavanthathu = input(\"Enter a sentence: \")\n",
        "while sollavanthathu != \"exit\":\n",
        "  search_with_rerank(sollavanthathu)\n",
        "  sollavanthathu = input(\"Enter a sentence: \")"
      ],
      "metadata": {
        "colab": {
          "base_uri": "https://localhost:8080/"
        },
        "id": "25mhUn6fMZy7",
        "outputId": "356b3d5d-80f8-42d2-b444-757df6d2c4dc"
      },
      "execution_count": null,
      "outputs": [
        {
          "output_type": "stream",
          "name": "stdout",
          "text": [
            "\n",
            "🔍 Query: How to cook pasta?\n",
            "\n",
            "Score: 1.0000 | Text: Add pasta to boiling water and stir occasionally.\n",
            "Score: 0.1845 | Text: Drain the pasta using a colander.\n",
            "Score: 0.0000 | Text: Serve the pasta hot with grated cheese on top.\n",
            "\n",
            "🔍 Query: What should I add after boiling pasta?\n",
            "\n",
            "Score: 1.0000 | Text: Add pasta to boiling water and stir occasionally.\n",
            "Score: 0.0533 | Text: Serve the pasta hot with grated cheese on top.\n",
            "Score: 0.0000 | Text: Drain the pasta using a colander.\n"
          ]
        }
      ]
    },
    {
      "cell_type": "code",
      "source": [],
      "metadata": {
        "id": "fBC35w6uSfZ5"
      },
      "execution_count": null,
      "outputs": []
    }
  ]
}