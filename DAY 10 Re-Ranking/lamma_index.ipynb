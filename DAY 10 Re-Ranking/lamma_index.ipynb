{
  "nbformat": 4,
  "nbformat_minor": 0,
  "metadata": {
    "colab": {
      "provenance": []
    },
    "kernelspec": {
      "name": "python3",
      "display_name": "Python 3"
    },
    "language_info": {
      "name": "python"
    }
  },
  "cells": [
    {
      "cell_type": "markdown",
      "source": [
        "# lamma Index\n",
        "\n",
        "It is a framework\n",
        "\n",
        "used in RAG model -> Retrieval Augment generation"
      ],
      "metadata": {
        "id": "v402pRZix4dx"
      }
    },
    {
      "cell_type": "code",
      "execution_count": null,
      "metadata": {
        "id": "brHYlLLduM_Q"
      },
      "outputs": [],
      "source": [
        "!pip install llama-index-embeddings-huggingface transformers accelerate"
      ]
    },
    {
      "cell_type": "code",
      "source": [
        "from llama_index.core.readers import download_loader\n",
        "from llama_index.core.node_parser import SimpleNodeParser\n",
        "from llama_index.core import VectorStoreIndex, Settings\n",
        "from llama_index.embeddings.huggingface import HuggingFaceEmbedding\n",
        "from llama_index.core.query_engine import RetrieverQueryEngine\n"
      ],
      "metadata": {
        "id": "9RoA7xRyzQnF"
      },
      "execution_count": null,
      "outputs": []
    },
    {
      "cell_type": "code",
      "source": [
        "PDFReader = download_loader(\"PDFReader\")\n",
        "loader = PDFReader()\n",
        "documents = loader.load_data(file=\"/content/What Is Machine Learning.pdf\")"
      ],
      "metadata": {
        "colab": {
          "base_uri": "https://localhost:8080/"
        },
        "id": "2_mYTXW50pUh",
        "outputId": "6e237b4a-a789-45a6-a18e-c15a7c61d357"
      },
      "execution_count": null,
      "outputs": [
        {
          "output_type": "stream",
          "name": "stderr",
          "text": [
            "/tmp/ipython-input-24-1212383057.py:1: DeprecationWarning: Call to deprecated function (or staticmethod) download_loader. (`download_loader()` is deprecated. Please install tool using pip install directly instead.)\n",
            "  PDFReader = download_loader(\"PDFReader\")\n"
          ]
        }
      ]
    },
    {
      "cell_type": "code",
      "source": [
        "parser = SimpleNodeParser()\n",
        "nodes = parser.get_nodes_from_documents(documents)"
      ],
      "metadata": {
        "id": "rQaKPvDpLNJk"
      },
      "execution_count": null,
      "outputs": []
    },
    {
      "cell_type": "code",
      "source": [
        "Settings.embed_model = HuggingFaceEmbedding(model_name=\"BAAI/bge-small-en-v1.5\")\n",
        "\n",
        "index = VectorStoreIndex(nodes)"
      ],
      "metadata": {
        "id": "XxpW7FTpNrPp"
      },
      "execution_count": null,
      "outputs": []
    },
    {
      "cell_type": "code",
      "source": [
        "retriever = index.as_retriever()\n",
        "Settings.llm = None\n",
        "query_engine = RetrieverQueryEngine.from_args(retriever, llm=None)\n",
        "\n"
      ],
      "metadata": {
        "colab": {
          "base_uri": "https://localhost:8080/"
        },
        "id": "qTD8ZkCKNzwM",
        "outputId": "b3758ccb-e683-4ea6-a9cb-7699f9e13def"
      },
      "execution_count": null,
      "outputs": [
        {
          "output_type": "stream",
          "name": "stdout",
          "text": [
            "LLM is explicitly disabled. Using MockLLM.\n"
          ]
        }
      ]
    },
    {
      "cell_type": "code",
      "source": [
        "response = query_engine.query(\"What is machine learning?\")\n",
        "print(response)"
      ],
      "metadata": {
        "colab": {
          "base_uri": "https://localhost:8080/"
        },
        "id": "mZyFq2QXO26c",
        "outputId": "93f34012-0ffd-4b69-b130-4879b9a5dd27"
      },
      "execution_count": null,
      "outputs": [
        {
          "output_type": "stream",
          "name": "stdout",
          "text": [
            "Context information is below.\n",
            "---------------------\n",
            "page_label: 1\n",
            "file_name: What Is Machine Learning.pdf\n",
            "\n",
            "What Is Machine Learning? \n",
            "Machine learning (ML) is a branch of artificial intelligence that enables computers to \n",
            "learn from data—without being explicitly programmed. Instead of following rigid \n",
            "instructions, ML systems analyze patterns and improve their performance with \n",
            "experience. \n",
            "Imagine teaching a child to recognize birds. You show examples—photos, sounds, \n",
            "movements—and eventually, they learn to identify birds without needing a checklist. ML \n",
            "works similarly: it uses data to train models that make predictions or decisions. \n",
            " \n",
            "How It Works \n",
            "The process typically involves: \n",
            "1. Data Collection: Huge volumes of relevant data are gathered. \n",
            "2. Training a Model: This data is used to teach the algorithm what patterns to \n",
            "recognize. \n",
            "3. Evaluation: The model is tested with new data to check its accuracy. \n",
            "4. Improvement: Based on the results, the model is refined. \n",
            " \n",
            "Types of Machine Learning \n",
            "• Supervised Learning: The model learns from labeled data (e.g., emails marked \n",
            "“spam” or “not spam”). \n",
            "• Unsupervised Learning: Finds hidden patterns in unlabeled data (e.g., grouping \n",
            "customers by behavior). \n",
            "• Reinforcement Learning: The model learns by trial and error, receiving \n",
            "feedback—like training a robot to walk.\n",
            "---------------------\n",
            "Given the context information and not prior knowledge, answer the query.\n",
            "Query: What is machine learning?\n",
            "Answer: \n"
          ]
        }
      ]
    },
    {
      "cell_type": "code",
      "source": [],
      "metadata": {
        "id": "nfxaFb64O51L"
      },
      "execution_count": null,
      "outputs": []
    }
  ]
}